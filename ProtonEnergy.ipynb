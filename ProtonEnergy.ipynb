{
 "cells": [
  {
   "cell_type": "code",
   "execution_count": 1,
   "metadata": {},
   "outputs": [],
   "source": [
    "import numpy as np"
   ]
  },
  {
   "cell_type": "markdown",
   "metadata": {},
   "source": [
    "In the lab frame, assuming DM carries total energy $E_\\chi$ and mass $m_\\chi$ and proton is at rest with mass $m_p=938$ MeV. After the collision, both DM and proton energies became $E_\\chi^\\prime$ and $E_p^\\prime$. In terms of Mandelstam variables $s,t,u$, they can be expressed as\n",
    "$$\n",
    "E_\\chi^\\prime =\\frac{1}{2m_p}(m_\\chi^2+m_p^2-u)\\\\\n",
    "E_p^\\prime =\\frac{1}{2m_p}(2m_p^2-t)\n",
    "$$\n",
    "where $t$ can be thought as momentum transfer. The minimum ($-$) and maximum ($+$) are\n",
    "$$\n",
    "t_\\pm =m_\\chi^2+m_p^2-\\frac{s}{2}-\\frac{1}{2s}[(m_\\chi^2-m_p^2)^2 \\pm \\lambda(s,m_\\chi^2,m_p^2)]\n",
    "$$\n",
    "where\n",
    "$$\n",
    "s=m_\\chi^2+m_p^2+2 E_\\chi m_p\n",
    "$$\n",
    "and\n",
    "$$\n",
    "\\lambda(x,y,z)=x^2+y^2+z^2-2xy-2yz-2zx.\n",
    "$$\n",
    "Note that $E_{\\chi,p} \\geq m_{\\chi,p}$.\n",
    "\n",
    "Reference: V. Ilisie, *Concept in QFT: A practioner's toolkit*, Springer (2016)"
   ]
  },
  {
   "cell_type": "code",
   "execution_count": 31,
   "metadata": {},
   "outputs": [],
   "source": [
    "# All inputs/outputs are in MeV\n",
    "# Define lambda Kallen function\n",
    "def Lambda(x,y,z):\n",
    "    return x**2+y**2+z**2-2*x*y-2*y*z-2*z*x\n",
    "\n",
    "# Define s, note that Ex>=mx\n",
    "def s(mx, Ex, mp = 938):\n",
    "    return mx**2+mp**2+2*Ex*mp\n",
    "\n",
    "# Momentum transfer, return an array with [tmin,tmax]\n",
    "def t(mx, Ex, mp = 938):\n",
    "    tmin=mx**2+mp**2-0.5*s(mx,Ex,mp)-((mx**2-mp**2)**2-Lambda(s(mx,Ex,mp),mx**2,mp**2))/(2*s(mx,Ex,mp))\n",
    "    tmax=mx**2+mp**2-0.5*s(mx,Ex,mp)-((mx**2-mp**2)**2+Lambda(s(mx,Ex,mp),mx**2,mp**2))/(2*s(mx,Ex,mp))\n",
    "    return tmin,tmax\n",
    "\n",
    "# Define proton energy after collision, already minus its rest mass mp\n",
    "# Return [min_kinetic, max_kinetic]\n",
    "# mx: DM mass, Ex: DM energy, mp: proton mass\n",
    "def ProtonEnergy(mx, Ex, mp = 938):\n",
    "    if Ex < mx:\n",
    "        raise ValueError(\"Ex cannot be smaller than mx\")\n",
    "    else:\n",
    "        return (2*mp**2-np.array(t(mx,Ex,mp)))/(2*mp) - mp"
   ]
  },
  {
   "cell_type": "code",
   "execution_count": 34,
   "metadata": {},
   "outputs": [
    {
     "data": {
      "text/plain": [
       "array([0.        , 0.81797545])"
      ]
     },
     "execution_count": 34,
     "metadata": {},
     "output_type": "execute_result"
    }
   ],
   "source": [
    "# mx = 0.1 MeV, Ex = 20 MeV\n",
    "ProtonEnergy(0.1,20)"
   ]
  },
  {
   "cell_type": "code",
   "execution_count": 27,
   "metadata": {},
   "outputs": [
    {
     "data": {
      "text/plain": [
       "array([0.       , 0.0348345])"
      ]
     },
     "execution_count": 27,
     "metadata": {},
     "output_type": "execute_result"
    }
   ],
   "source": [
    "# mx = 100 MeV, Ex = 100.1 MeV, DM at rest\n",
    "ProtonEnergy(100,100.1)"
   ]
  },
  {
   "cell_type": "code",
   "execution_count": null,
   "metadata": {},
   "outputs": [],
   "source": []
  }
 ],
 "metadata": {
  "kernelspec": {
   "display_name": "Python 3",
   "language": "python",
   "name": "python3"
  },
  "language_info": {
   "codemirror_mode": {
    "name": "ipython",
    "version": 3
   },
   "file_extension": ".py",
   "mimetype": "text/x-python",
   "name": "python",
   "nbconvert_exporter": "python",
   "pygments_lexer": "ipython3",
   "version": "3.7.4"
  }
 },
 "nbformat": 4,
 "nbformat_minor": 2
}
